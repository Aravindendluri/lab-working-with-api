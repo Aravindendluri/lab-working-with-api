{
 "cells": [
  {
   "cell_type": "code",
   "execution_count": 1,
   "id": "c8d5430e",
   "metadata": {},
   "outputs": [
    {
     "name": "stdout",
     "output_type": "stream",
     "text": [
      "{\"message\":\"Something went wrong.\"}\n"
     ]
    }
   ],
   "source": [
    "# copying python request from the site with APIs https://aerodatabox.p.rapidapi.com\n",
    "import requests\n",
    "import pandas as pd\n",
    "\n",
    "url = \"https://aerodatabox.p.rapidapi.com/health/services/feeds/FlightSchedules/airports\"\n",
    "\n",
    "headers = {\n",
    "    'x-rapidapi-host': \"aerodatabox.p.rapidapi.com\",\n",
    "    'x-rapidapi-key': \"9613ca6ca5msh62659872159916fp1a0a2cjsndd9a3e6ff324\"\n",
    "    }\n",
    "\n",
    "response = requests.get(url, headers=headers)\n",
    "\n",
    "print(response.text)"
   ]
  },
  {
   "cell_type": "code",
   "execution_count": 2,
   "id": "818d411c",
   "metadata": {},
   "outputs": [
    {
     "data": {
      "text/plain": [
       "{'message': 'Something went wrong.'}"
      ]
     },
     "execution_count": 2,
     "metadata": {},
     "output_type": "execute_result"
    }
   ],
   "source": [
    "# we will check the option search 'airports by free text' and we will get a python code like the following\n",
    "url = \"https://aerodatabox.p.rapidapi.com/airports/search/term\"\n",
    "\n",
    "querystring = {\"q\":\"Thessaloniki\",\"limit\":\"5\"}\n",
    "\n",
    "headers = {\n",
    "    'x-rapidapi-host': \"aerodatabox.p.rapidapi.com\",\n",
    "    'x-rapidapi-key': \"9613ca6ca5msh62659872159916fp1a0a2cjsndd9a3e6ff324\"\n",
    "    }\n",
    "\n",
    "response = requests.get(url, headers=headers, params=querystring)\n",
    "response.json()\n",
    "# we get a json file, which is actually a dictionary and lists but it has some differences with the dictionaries\n",
    "# for instance in transforming a dictionary to a dataframe or a json file to a dataframe\n",
    "# Thessaloniki has only one airport this is the reason we get only one nested dictionary"
   ]
  },
  {
   "cell_type": "code",
   "execution_count": 3,
   "id": "316f1da8",
   "metadata": {},
   "outputs": [
    {
     "data": {
      "text/plain": [
       "dict_keys(['message'])"
      ]
     },
     "execution_count": 3,
     "metadata": {},
     "output_type": "execute_result"
    }
   ],
   "source": [
    "# getting the key of the outside dictionary\n",
    "response.json().keys() "
   ]
  },
  {
   "cell_type": "code",
   "execution_count": 7,
   "id": "dcef30b8",
   "metadata": {},
   "outputs": [
    {
     "data": {
      "text/plain": [
       "dict_values(['Something went wrong.'])"
      ]
     },
     "execution_count": 7,
     "metadata": {},
     "output_type": "execute_result"
    }
   ],
   "source": [
    "# getting the values of the outside dictionary\n",
    "response.json().values() "
   ]
  },
  {
   "cell_type": "code",
   "execution_count": 9,
   "id": "b921cb0f",
   "metadata": {},
   "outputs": [
    {
     "ename": "KeyError",
     "evalue": "'items'",
     "output_type": "error",
     "traceback": [
      "\u001b[0;31m---------------------------------------------------------------------------\u001b[0m",
      "\u001b[0;31mKeyError\u001b[0m                                  Traceback (most recent call last)",
      "\u001b[0;32m/var/folders/_n/wzm_vp5d0rd989db9nyndr8m0000gp/T/ipykernel_32004/1716793543.py\u001b[0m in \u001b[0;36m<module>\u001b[0;34m\u001b[0m\n\u001b[1;32m      1\u001b[0m \u001b[0;31m#  getting the keys of the nested dictionary\u001b[0m\u001b[0;34m\u001b[0m\u001b[0;34m\u001b[0m\u001b[0m\n\u001b[0;32m----> 2\u001b[0;31m \u001b[0mresponse\u001b[0m\u001b[0;34m.\u001b[0m\u001b[0mjson\u001b[0m\u001b[0;34m(\u001b[0m\u001b[0;34m)\u001b[0m\u001b[0;34m[\u001b[0m\u001b[0;34m'items'\u001b[0m\u001b[0;34m]\u001b[0m\u001b[0;34m[\u001b[0m\u001b[0;36m0\u001b[0m\u001b[0;34m]\u001b[0m\u001b[0;34m.\u001b[0m\u001b[0mkeys\u001b[0m\u001b[0;34m(\u001b[0m\u001b[0;34m)\u001b[0m\u001b[0;34m\u001b[0m\u001b[0;34m\u001b[0m\u001b[0m\n\u001b[0m",
      "\u001b[0;31mKeyError\u001b[0m: 'items'"
     ]
    }
   ],
   "source": [
    "#  getting the keys of the nested dictionary\n",
    "response.json()['items'][0].keys() "
   ]
  },
  {
   "cell_type": "code",
   "execution_count": null,
   "id": "ad0153c9",
   "metadata": {},
   "outputs": [],
   "source": []
  }
 ],
 "metadata": {
  "kernelspec": {
   "display_name": "Python 3 (ipykernel)",
   "language": "python",
   "name": "python3"
  },
  "language_info": {
   "codemirror_mode": {
    "name": "ipython",
    "version": 3
   },
   "file_extension": ".py",
   "mimetype": "text/x-python",
   "name": "python",
   "nbconvert_exporter": "python",
   "pygments_lexer": "ipython3",
   "version": "3.9.7"
  }
 },
 "nbformat": 4,
 "nbformat_minor": 5
}
